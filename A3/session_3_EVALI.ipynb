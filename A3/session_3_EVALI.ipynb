{
  "cells": [
    {
      "cell_type": "markdown",
      "id": "24b98369-c7ba-450b-a8b5-e34319000695",
      "metadata": {
        "editable": true,
        "id": "24b98369-c7ba-450b-a8b5-e34319000695",
        "tags": []
      },
      "source": [
        "# Python for Data Science\n",
        "## Session 3\n",
        "### Object Oriented Programming"
      ]
    },
    {
      "cell_type": "markdown",
      "id": "3ace1343-d73d-466d-aa07-56febbb7cbf1",
      "metadata": {
        "editable": true,
        "id": "3ace1343-d73d-466d-aa07-56febbb7cbf1",
        "tags": []
      },
      "source": [
        "---"
      ]
    },
    {
      "cell_type": "markdown",
      "id": "c5ffee69-5d4d-4f1c-9ed7-083afbc931ec",
      "metadata": {
        "editable": true,
        "id": "c5ffee69-5d4d-4f1c-9ed7-083afbc931ec",
        "tags": []
      },
      "source": [
        "## Outline\n",
        "1. Classes and objects\n",
        "2. Abstraction and Inheritance\n",
        "3. Polymorphism and Encapsulation"
      ]
    },
    {
      "cell_type": "markdown",
      "id": "aba315f4-e9bf-4a66-b3d3-593037c3ca70",
      "metadata": {
        "editable": true,
        "id": "aba315f4-e9bf-4a66-b3d3-593037c3ca70",
        "tags": []
      },
      "source": [
        "---"
      ]
    },
    {
      "cell_type": "markdown",
      "id": "8ed45dcb-2cf5-4bfa-ba6e-5da25c59757c",
      "metadata": {
        "editable": true,
        "id": "8ed45dcb-2cf5-4bfa-ba6e-5da25c59757c",
        "tags": []
      },
      "source": [
        "## Object Oriented programming\n",
        "\n",
        "In Data science there are three different types of programming paradigms:\n",
        "\n",
        "1. **Object-oriented programming** organizes code using objects that represent real-world entities. It provides modularity, code reuse and abstraction, making it suitable for handling large and complex applications.\n",
        "\n",
        "2. **Functional programming** emphasizes the use of **pure functions** that can be easily composed and reused, ideal for transforming data.\n",
        "\n",
        "3. **Declarative programming** consists in specifyin what the program should accomplish, rather than how to accomplish it.\n",
        "\n"
      ]
    },
    {
      "cell_type": "markdown",
      "id": "42f9f227-0941-4967-9a4b-c282bb0e4cfc",
      "metadata": {
        "editable": true,
        "id": "42f9f227-0941-4967-9a4b-c282bb0e4cfc",
        "tags": []
      },
      "source": [
        "**Pure functions** are functions that always produce the same output for the same input and haven't got any side effects, meaning it does not modify external states or variables."
      ]
    },
    {
      "cell_type": "markdown",
      "id": "00b01ced-eda7-423f-8522-96bd3f1a4125",
      "metadata": {
        "editable": true,
        "id": "00b01ced-eda7-423f-8522-96bd3f1a4125",
        "tags": []
      },
      "source": [
        "---"
      ]
    },
    {
      "cell_type": "markdown",
      "id": "9434c993-aac1-4655-bf69-477b9dc5d2ee",
      "metadata": {
        "editable": true,
        "id": "9434c993-aac1-4655-bf69-477b9dc5d2ee",
        "tags": []
      },
      "source": [
        "## Object Oriented programming\n",
        "\n",
        "OOP main concepts are:\n",
        "\n",
        "1. **Class**: A template to create objects.\n",
        "2. **Object**: An instance of a class, representing a specific entity.\n",
        "3. **Attributes**: Properties of an object (variables within a class that define it).\n",
        "4. **Methods**: Actions that objects can perform (functions within a class)."
      ]
    },
    {
      "cell_type": "code",
      "execution_count": null,
      "id": "1e350f15-ae19-4323-a1c6-25d80118a5f3",
      "metadata": {
        "editable": true,
        "id": "1e350f15-ae19-4323-a1c6-25d80118a5f3",
        "tags": []
      },
      "outputs": [],
      "source": [
        "class Pet:\n",
        "    pass  # Empty class as a placeholder"
      ]
    },
    {
      "cell_type": "code",
      "execution_count": null,
      "id": "2e427c6d-a0fc-47de-a6e8-de71ae500619",
      "metadata": {
        "editable": true,
        "id": "2e427c6d-a0fc-47de-a6e8-de71ae500619",
        "tags": []
      },
      "outputs": [],
      "source": [
        "my_pet = Pet() # Instance of a class"
      ]
    },
    {
      "cell_type": "code",
      "execution_count": null,
      "id": "1cda9d57-aedb-4e70-af5b-7193174a2430",
      "metadata": {
        "editable": true,
        "id": "1cda9d57-aedb-4e70-af5b-7193174a2430",
        "tags": []
      },
      "outputs": [],
      "source": [
        "# Note: self refers to the instance of the class and is used to access its attributes and methods\n",
        "class Pet:\n",
        "    def __init__(self, name): # constructor\n",
        "        self.name = name"
      ]
    },
    {
      "cell_type": "code",
      "execution_count": null,
      "id": "c4f13ca9-dd0a-4b53-8f30-5a507979b1ed",
      "metadata": {
        "editable": true,
        "id": "c4f13ca9-dd0a-4b53-8f30-5a507979b1ed",
        "tags": []
      },
      "outputs": [],
      "source": [
        "class Pet:\n",
        "    def __init__(self, name): # constructor\n",
        "        self.name = name # Instance attribute\n",
        "        self.age = None # Instance attribute set to None\n",
        "\n",
        "    def set_age(self, age): # Method\n",
        "        self.age = age"
      ]
    },
    {
      "cell_type": "markdown",
      "id": "92887f1e-c2b9-4abc-9324-af4c15250c3a",
      "metadata": {
        "editable": true,
        "id": "92887f1e-c2b9-4abc-9324-af4c15250c3a",
        "tags": []
      },
      "source": [
        "---"
      ]
    },
    {
      "cell_type": "markdown",
      "id": "d6c81e01-e268-4490-b970-b9f3d7a08d30",
      "metadata": {
        "editable": true,
        "id": "d6c81e01-e268-4490-b970-b9f3d7a08d30",
        "tags": []
      },
      "source": [
        "## Object Oriented programming\n",
        "### Abstraction\n",
        "\n",
        "Abstraction consists in hiding any variables and internal parts of an object that don’t need to be shown during interaction. Making only available the essential functionalities.\n",
        "\n",
        "You may want to call a method from an object that searches for something in an internal list, and in this case, you don't need to see the algorithm behind it, you just need to call the method and get what you want."
      ]
    },
    {
      "cell_type": "markdown",
      "id": "65c1cf93",
      "metadata": {},
      "source": [
        "\n",
        "面向对象编程中的抽象\n",
        "抽象 是面向对象编程中的一个重要概念，它涉及隐藏对象的内部变量和不需要在交互中显示的部分，只暴露出必要的功能。这种做法能够简化与对象的交互，提高代码的可读性和可维护性。"
      ]
    },
    {
      "cell_type": "markdown",
      "id": "23e1e6b4-322a-4cd5-8a82-72877cc98804",
      "metadata": {
        "editable": true,
        "id": "23e1e6b4-322a-4cd5-8a82-72877cc98804",
        "tags": []
      },
      "source": [
        "## Object Oriented programming\n",
        "### Inheritance\n",
        "\n",
        "Inheritance permits any class to inherit attributes and methods from another class. This reduces code duplication and enables the creation of specialized classes based on general ones."
      ]
    },
    {
      "cell_type": "markdown",
      "id": "c84ff905",
      "metadata": {},
      "source": [
        "继承 是面向对象编程中的一个重要特性，它允许一个类（称为 子类 或 派生类）继承另一个类（称为 父类 或 基类）的属性和方法。通过继承，可以减少代码重复，同时可以在一般类的基础上创建更专业的类。"
      ]
    },
    {
      "cell_type": "code",
      "execution_count": null,
      "id": "76c58110-a965-432f-8dcf-f457079fec65",
      "metadata": {
        "editable": true,
        "id": "76c58110-a965-432f-8dcf-f457079fec65",
        "tags": []
      },
      "outputs": [],
      "source": [
        "class Pet:\n",
        "    def __init__(self, age, name): # Constructor\n",
        "        self.age = age # Attribute\n",
        "        self.name = name # Attribute\n",
        "\n",
        "    def describe(self): # Method\n",
        "        print(f\"This pet's name is {self.name}.\")\n",
        "\n",
        "class Dog(Pet):\n",
        "    def __init__(self, age, name, breed): # Constructor\n",
        "        super().__init__(age, name)  # Call the parent class's __init__ method\n",
        "        self.breed = breed # New attribute for this specialized class\n",
        "\n",
        "    def describe(self):\n",
        "        super().describe()  # Call the parent class's describe method\n",
        "        print(f\"This dog is {self.age} years old and is a {self.breed}.\")"
      ]
    },
    {
      "cell_type": "markdown",
      "id": "65a816ba",
      "metadata": {},
      "source": [
        "1. Pet 类（父类）\n",
        "class Pet:\n",
        "这行代码定义了一个名为 Pet 的新类。\n",
        "\n",
        "def __init__(self, age, name):\n",
        "这是构造函数，当创建 Pet 类的新实例时会被调用。它接收两个参数：age（年龄）和 name（名字）。\n",
        "\n",
        "self.age = age 和 self.name = name\n",
        "这两行将传入的参数 age 和 name 分别赋值给实例属性 age 和 name。\n",
        "\n",
        "def describe(self):\n",
        "这是一个方法，输出宠物的名字。调用这个方法时，它会打印 This pet's name is {self.name}.。\n",
        "\n",
        "2. Dog 类（子类）\n",
        "class Dog(Pet):\n",
        "这行代码定义了一个名为 Dog 的新类，它继承自 Pet 类，意味着 Dog 类可以使用 Pet 类中的属性和方法。\n",
        "\n",
        "def __init__(self, age, name, breed):\n",
        "这是 Dog 类的构造函数，它接收三个参数：age（年龄）、name（名字）和 breed（品种）。\n",
        "\n",
        "super().__init__(age, name)\n",
        "这行代码调用父类 Pet 的构造函数，初始化 age 和 name 属性。super() 是用于调用父类的方法。\n",
        "\n",
        "self.breed = breed\n",
        "这行代码将传入的 breed 参数赋值给实例属性 breed，这是 Dog 类特有的属性。\n",
        "\n",
        "def describe(self):\n",
        "这是 Dog 类的 describe 方法，重写了父类 Pet 的 describe 方法。\n",
        "\n",
        "super().describe()\n",
        "在 Dog 类的 describe 方法中，这行代码调用父类的 describe 方法，输出宠物的名字。\n",
        "\n",
        "print(f\"This dog is {self.age} years old and is a {self.breed}.\")\n",
        "这行代码输出狗的年龄和品种的信息。"
      ]
    },
    {
      "cell_type": "markdown",
      "id": "7b3f7470",
      "metadata": {},
      "source": [
        "1. Class（类）\n",
        "Pet 和 Dog 是类。\n",
        "它们是用来创建对象的模板，定义了对象的属性和方法。\n",
        "2. Object（对象）\n",
        "my_dog = Dog(3, 'Rock', 'Great Dane') 这行代码创建了一个 Dog 类的实例，即对象 my_dog。\n",
        "my_dog 是一个具体的对象，代表一只叫 \"Rock\" 的 3 岁的大丹犬。\n",
        "3. Attributes（属性）\n",
        "age、name 和 breed 是对象的属性，也称为实例变量。\n",
        "这些属性存储了对象的具体信息：\n",
        "age 是这只宠物的年龄。\n",
        "name 是宠物的名字。\n",
        "breed 是 Dog 类特有的，表示狗的品种。\n",
        "示例中 my_dog 对象的属性值为：\n",
        "\n",
        "my_dog.age = 3\n",
        "my_dog.name = 'Rock'\n",
        "my_dog.breed = 'Great Dane'\n",
        "4. Methods（方法）\n",
        "__init__：构造函数，用于在创建对象时初始化对象的属性。\n",
        "describe：这是一个方法，用于描述宠物。对于 Dog 类，它调用了 Pet 类的 describe() 方法，然后增加了更多关于狗的信息（年龄和品种）。"
      ]
    },
    {
      "cell_type": "code",
      "execution_count": null,
      "id": "48301f74-ece3-49ec-9332-2c168743ebc8",
      "metadata": {
        "editable": true,
        "id": "48301f74-ece3-49ec-9332-2c168743ebc8",
        "tags": []
      },
      "outputs": [],
      "source": [
        "my_dog = Dog(3, 'Rock', 'Great Dane')"
      ]
    },
    {
      "cell_type": "code",
      "execution_count": null,
      "id": "eae7678f-665a-4916-96d2-3926a312aea5",
      "metadata": {
        "editable": true,
        "id": "eae7678f-665a-4916-96d2-3926a312aea5",
        "outputId": "3abb92a2-d911-43f9-bf4b-bb7ecdaf371f",
        "tags": []
      },
      "outputs": [
        {
          "name": "stdout",
          "output_type": "stream",
          "text": [
            "This pet's name is Rock.\n",
            "This dog is 3 years old and is a Great Dane.\n"
          ]
        }
      ],
      "source": [
        "my_dog.describe()"
      ]
    },
    {
      "cell_type": "markdown",
      "id": "220f9368-0c1a-4ac8-9785-a33b11e5df77",
      "metadata": {
        "editable": true,
        "id": "220f9368-0c1a-4ac8-9785-a33b11e5df77",
        "tags": []
      },
      "source": [
        "---"
      ]
    },
    {
      "cell_type": "markdown",
      "id": "88ff8053-d1d0-4c08-b8e5-6c84e94c4f24",
      "metadata": {
        "editable": true,
        "id": "88ff8053-d1d0-4c08-b8e5-6c84e94c4f24",
        "tags": []
      },
      "source": [
        "## Object Oriented programming\n",
        "### Polymorphism\n",
        "\n",
        "It allows the same method name to behave differently based on the object calling it, which can be achieved through method overriding."
      ]
    },
    {
      "cell_type": "markdown",
      "id": "8672e595",
      "metadata": {},
      "source": [
        "多态性 是面向对象编程的重要概念之一，它允许相同的方法名在不同的对象上表现出不同的行为。多态性通常通过方法重写（method overriding）来实现，即子类可以重写父类中的方法，提供它自己的实现"
      ]
    },
    {
      "cell_type": "code",
      "execution_count": null,
      "id": "db4cd9e2-0188-4511-a81b-070221d74af5",
      "metadata": {
        "editable": true,
        "id": "db4cd9e2-0188-4511-a81b-070221d74af5",
        "tags": []
      },
      "outputs": [],
      "source": [
        "class Cat(Pet):\n",
        "    def __init__(self, age, name, breed): # Constructor\n",
        "        super().__init__(age, name)  # Call the parent class's __init__ method\n",
        "        self.breed = breed # New attribute for this specialized class\n",
        "    def describe(self): # Method\n",
        "        print(f\"This super cat is {self.age} years old and is a {self.breed}.\")"
      ]
    },
    {
      "cell_type": "markdown",
      "id": "4c5122f8",
      "metadata": {},
      "source": [
        "1. 继承\n",
        "Cat(Pet) 表示 Cat 类继承自 Pet 类。它将继承 Pet 类的属性和方法。\n",
        "2. 构造函数 (__init__)\n",
        "def __init__(self, age, name, breed):\n",
        "这个构造函数接收三个参数：age（年龄）、name（名字）和 breed（品种）。\n",
        "\n",
        "super().__init__(age, name)\n",
        "使用 super() 调用父类 Pet 的构造函数，初始化 age 和 name 属性。\n",
        "\n",
        "self.breed = breed\n",
        "这是 Cat 类特有的属性，存储猫的品种。\n",
        "\n",
        "3. 方法重写 (describe)\n",
        "describe 方法\n",
        "在 Cat 类中重写了父类的 describe 方法，使得 Cat 类可以有自己的实现。\n",
        "\n",
        "print(f\"This super cat is {self.age} years old and is a {self.breed}.\")\n",
        "该行输出一条信息，描述猫的年龄和品种。这里强调这是一只 \"super cat\"。"
      ]
    },
    {
      "cell_type": "code",
      "execution_count": null,
      "id": "ced1143b-98db-46db-8e90-fed185aad835",
      "metadata": {
        "editable": true,
        "id": "ced1143b-98db-46db-8e90-fed185aad835",
        "outputId": "3c3d99c3-5191-40d9-a25c-9d4516c6ca93",
        "tags": []
      },
      "outputs": [
        {
          "name": "stdout",
          "output_type": "stream",
          "text": [
            "This super cat is 7 years old and is a Siamese.\n"
          ]
        }
      ],
      "source": [
        "my_cat = Cat(7, 'Bella', 'Siamese')\n",
        "my_cat.describe()"
      ]
    },
    {
      "cell_type": "markdown",
      "id": "cd327548-f048-4d39-9b72-6dff6cd6963d",
      "metadata": {
        "editable": true,
        "id": "cd327548-f048-4d39-9b72-6dff6cd6963d",
        "tags": []
      },
      "source": [
        "---"
      ]
    },
    {
      "cell_type": "markdown",
      "id": "854b31bb-2b21-42fd-939a-f82f71a549f0",
      "metadata": {
        "editable": true,
        "id": "854b31bb-2b21-42fd-939a-f82f71a549f0",
        "tags": []
      },
      "source": [
        "## Object Oriented programming\n",
        "### Encapsulation\n",
        "\n",
        "It consists in restricting access to variables and methods outside the object. This way we ensure the integrity of the data within the object.\n",
        "\n",
        "In python, prefixing a variable or method name with an underscore **_** indicates that it is intended for internal use only, while a double underscore **__** modifies the variable name for better encapsulation.\n",
        "\n",
        "It is worth mentioning that this is a convention, and variables and methods are still accessible."
      ]
    },
    {
      "cell_type": "markdown",
      "id": "a8de9f9c",
      "metadata": {},
      "source": [
        "面向对象编程中的封装（Encapsulation）\n",
        "封装 是面向对象编程的核心概念之一。它通过限制外部访问对象的变量和方法，确保对象内部的数据完整性和安全性。封装使得对象的内部实现细节对外界隐藏，外部只能通过公开的接口（方法）来与对象交互。\n",
        "\n",
        "在 Python 中的封装\n",
        "在 Python 中，封装通过变量和方法名前缀下划线来实现：\n",
        "\n",
        "单下划线 _：表示变量或方法是内部使用的，但仍然可以被外部访问。它是一种约定。\n",
        "双下划线 __：会触发 Python 的名称改写（name mangling），使变量在外部更难直接访问。"
      ]
    },
    {
      "cell_type": "code",
      "execution_count": null,
      "id": "33e1bdf2-8798-41f1-9ed3-957c730dc9ad",
      "metadata": {
        "editable": true,
        "id": "33e1bdf2-8798-41f1-9ed3-957c730dc9ad",
        "tags": []
      },
      "outputs": [],
      "source": [
        "class Student:\n",
        "    def __init__(self, name, age, address=None):\n",
        "        self.name = name # Public attribute\n",
        "        self._age =   age # Private attribute\n",
        "        self._address = address  # Private attribute\n",
        "\n",
        "    def get_address(self): # Method\n",
        "        return self._address\n",
        "\n",
        "    def set_address(self, address): # Method\n",
        "        address = ''.join(filter(self._remove_special_characters, address))\n",
        "        self._address = address\n",
        "\n",
        "    def _remove_special_characters(self, character): # Private method\n",
        "        if character.isalnum() or character == ' ' or character == '-':\n",
        "            return True\n",
        "        else:\n",
        "            return False\n"
      ]
    },
    {
      "cell_type": "markdown",
      "id": "a37eb971",
      "metadata": {},
      "source": [
        "1. 构造函数 (__init__)\n",
        "self.name：这是一个公有属性，可以直接从类的外部访问和修改，比如 student.name。\n",
        "self._age 和 self._address：这些是私有属性，虽然在 Python 中并不是完全无法访问，但按照约定，前面带有单下划线的属性不应直接从类外部访问。\n",
        "2. get_address() 和 set_address() 方法\n",
        "get_address()：这是一个公共方法，用来获取私有属性 _address 的值。\n",
        "set_address()：这是一个公共方法，用来设置私有属性 _address。在设置地址之前，它使用私有方法 _remove_special_characters() 对传入的地址字符串进行处理，过滤掉非字母数字的字符（除了空格和短横线）。\n",
        "3. _remove_special_characters() 方法\n",
        "这是一个私有方法，用于检查字符是否为字母、数字、空格或短横线。如果是这些字符，则返回 True，否则返回 False。\n",
        "filter(self._remove_special_characters, address) 会对地址字符串中的每个字符应用这个私有方法，并移除不符合条件的字符。"
      ]
    },
    {
      "cell_type": "code",
      "execution_count": null,
      "id": "a4e46c71-63e9-474e-91a6-9d9a323636dc",
      "metadata": {
        "editable": true,
        "id": "a4e46c71-63e9-474e-91a6-9d9a323636dc",
        "outputId": "f3fdcc29-3661-46e6-e645-397a94c9874c",
        "tags": []
      },
      "outputs": [
        {
          "name": "stdout",
          "output_type": "stream",
          "text": [
            "The student named Joan has the following address: Avinguda Buenos Aires nº 31 7e-1a\n"
          ]
        }
      ],
      "source": [
        "student = Student(\"Joan\", 24)\n",
        "student.set_address(\"Avinguda Buenos Aires nº 31! 7e-1a\")\n",
        "print(f\"The student named {student.name} has the following address: {student.get_address()}\")"
      ]
    },
    {
      "cell_type": "markdown",
      "id": "f4552012-e0e9-40af-8801-69d83733d433",
      "metadata": {
        "editable": true,
        "id": "f4552012-e0e9-40af-8801-69d83733d433",
        "tags": []
      },
      "source": [
        "---"
      ]
    },
    {
      "cell_type": "markdown",
      "id": "42f8be9a-cc71-4a58-97ac-1a54219a2d72",
      "metadata": {
        "editable": true,
        "id": "42f8be9a-cc71-4a58-97ac-1a54219a2d72",
        "tags": []
      },
      "source": [
        "## Object Oriented programming\n",
        "### Hands on\n",
        "\n",
        "Let's design a course registration system, where the requirements will be:\n",
        "\n",
        "1. Create a **Course** class, where each course has a name, a description and a list of enrolled students. You'll need to implement the next methods:\n",
        "    - Add a student to the course.\n",
        "    - Remove a student from the course.\n",
        "    - Show all students in the course."
      ]
    },
    {
      "cell_type": "markdown",
      "id": "e5430dcf-a01a-4ea1-aff8-5bad4531ab1e",
      "metadata": {
        "editable": true,
        "id": "e5430dcf-a01a-4ea1-aff8-5bad4531ab1e",
        "tags": []
      },
      "source": [
        "class Course:\n",
        "    def __init__(self, name, course_type):\n",
        "        pass\n",
        "\n",
        "    def add_student(self, student):\n",
        "        pass\n"
      ]
    },
    {
      "cell_type": "code",
      "execution_count": 17,
      "id": "44195581",
      "metadata": {},
      "outputs": [],
      "source": [
        "class Course:\n",
        "    def __init__(self, name, course_type):\n",
        "        self.name = name  # Course name\n",
        "        self.dcourse_type = course_type  # Course description\n",
        "        self.students = []  # List of enrolled students (initially empty)\n",
        "\n",
        "    def add_student(self, student_name):\n",
        "        if student_name not in self.students:\n",
        "            self.students.append(student_name)\n",
        "            print(f\"Student {student_name} has been added to the course {self.name}.\")\n",
        "\n",
        "    def remove_student(self, student_name):\n",
        "        if student_name in self.students:\n",
        "            self.students.remove(student_name)\n",
        "            print(f\"Student {student_name} has been removed from the course {self.name}.\")"
      ]
    },
    {
      "cell_type": "markdown",
      "id": "16cc578c-9fe3-4478-81da-3071e3adb318",
      "metadata": {
        "editable": true,
        "id": "16cc578c-9fe3-4478-81da-3071e3adb318",
        "tags": []
      },
      "source": [
        "## Object Oriented programming\n",
        "### Hands on\n",
        "\n",
        "2. Create a **Student** class, where each student has a name, ID number, address and a list of enrolled courses with the following methods:\n",
        "    - Enroll in a course.\n",
        "    - Drop a course.\n",
        "    - Show all registered student courses."
      ]
    },
    {
      "cell_type": "code",
      "execution_count": 18,
      "id": "ec704394",
      "metadata": {},
      "outputs": [],
      "source": [
        "class Student:\n",
        "    def __init__(self, name, student_id, address,courses):\n",
        "        self.name = name  # Student's name\n",
        "        self.student_id = student_id  # Student's ID number\n",
        "        self.address = address  # Student's address\n",
        "        self.courses = [] \n",
        "    def enroll_in_course(self, course):\n",
        "        if course not in self.courses:\n",
        "            self.courses.append(course)\n",
        "            print(f\"{self.name} has enrolled in the course: {course.name}.\")\n",
        "            course.add_student(self.name)  # Add the student to the course\n",
        "        else:\n",
        "            print(f\"{self.name} is already enrolled in {course.name}.\")\n",
        "    def drop_course(self, course):\n",
        "        if course in self.courses:\n",
        "            self.courses.remove(course)\n",
        "            print(f\"{self.name} has dropped the course: {course.name}.\")\n",
        "            course.remove_student(self.name)  # Remove the student from the course\n",
        "        else:\n",
        "            print(f\"{self.name} is not enrolled in {course.name}.\")\n",
        "    def show_courses(self):\n",
        "        return course in self.courses"
      ]
    },
    {
      "cell_type": "markdown",
      "id": "5c54b2fe-691f-4520-b8d6-2515ba92b808",
      "metadata": {
        "editable": true,
        "id": "5c54b2fe-691f-4520-b8d6-2515ba92b808",
        "tags": []
      },
      "source": [
        "## Object Oriented programming\n",
        "### Hands on\n",
        "\n",
        "3. Create a central class that manages courses and students, **Registration** class, where you have a list of students and a list of courses, and methods:\n",
        "    - Enroll in a course.\n",
        "    - Drop a course.\n",
        "    - Show all the enrolled courses.\n",
        "    - Show all the students."
      ]
    },
    {
      "cell_type": "code",
      "execution_count": 19,
      "id": "863f30c7-3cf8-4ac9-8599-e7df8e0d483c",
      "metadata": {
        "editable": true,
        "id": "863f30c7-3cf8-4ac9-8599-e7df8e0d483c",
        "tags": []
      },
      "outputs": [],
      "source": [
        "class Registrar:\n",
        "    def __init__(self):\n",
        "        self.students = []  # List of students\n",
        "        self.courses = []   # List of courses\n",
        "    \n",
        "    def add_student(self, student):\n",
        "        if student not in self.students:\n",
        "            self.students.append(student)\n",
        "            print(f\"Student {student.name} has been added to the system.\")\n",
        "\n",
        "    def add_course(self, course):\n",
        "        if course not in self.courses:\n",
        "            self.courses.append(course)\n",
        "            print(f\"Course {course.name} has been added to the system.\")\n",
        "    \n",
        "    def enroll_student_in_course(self, student, course):\n",
        "        if student in self.students and course in self.courses:\n",
        "            student.enroll_in_course(course)\n",
        "\n",
        "    def drop_student_from_course(self, student, course):\n",
        "        if student in self.students and course in self.courses:\n",
        "            student.drop_course(course)\n",
        "\n",
        "    def show_student_courses(self, student):\n",
        "        if student in self.students:\n",
        "            student.show_courses()\n",
        "\n",
        "    def show_all_students(self):\n",
        "        return student in self.students\n",
        "\n"
      ]
    },
    {
      "cell_type": "markdown",
      "id": "2958b01b-3472-4c95-ae1f-771edc638749",
      "metadata": {
        "editable": true,
        "id": "2958b01b-3472-4c95-ae1f-771edc638749",
        "tags": []
      },
      "source": [
        "## Object Oriented programming\n",
        "### Howework\n",
        "\n",
        "4. Let's add grades to each student's course and create method that yields the GPA given a student name or ID."
      ]
    },
    {
      "cell_type": "code",
      "execution_count": 20,
      "id": "410ebdca",
      "metadata": {},
      "outputs": [],
      "source": [
        "class Student:\n",
        "    def __init__(self, name, id_number, address=None):\n",
        "        self.name = name  \n",
        "        self.id_number = id_number  \n",
        "        self._address = address \n",
        "        self.courses = {}  \n",
        "\n",
        "    def enroll_course(self, course):\n",
        "        if course not in self.courses:\n",
        "            self.courses[course] = None  \n",
        "            course.add_student(self)\n",
        "\n",
        "    def drop_course(self, course):\n",
        "        if course in self.courses:\n",
        "            del self.courses[course]  \n",
        "            course.remove_student(self)\n",
        "\n",
        "    def show_courses(self):\n",
        "        return list(self.courses.keys())\n",
        "\n",
        "    def set_grade(self, course, grade):\n",
        "        if course in self.courses:\n",
        "            self.courses[course] = grade\n",
        "\n",
        "    def get_grade(self, course):\n",
        "        if course in self.courses:\n",
        "            return self.courses[course] \n",
        "\n",
        "    def calculate_gpa(self):\n",
        "        total_grades = 0\n",
        "        num_courses = 0\n",
        "\n",
        "        for grade in self.courses.values():\n",
        "            if grade is not None: \n",
        "                total_grades += grade\n",
        "                num_courses += 1\n",
        "\n",
        "        if num_courses > 0:\n",
        "            gpa = total_grades / num_courses\n",
        "            return gpa\n",
        "\n"
      ]
    },
    {
      "cell_type": "markdown",
      "id": "76c565a9-dc30-464c-980d-d522cd5246f4",
      "metadata": {
        "editable": true,
        "id": "76c565a9-dc30-464c-980d-d522cd5246f4",
        "tags": []
      },
      "source": [
        "## That's all!"
      ]
    }
  ],
  "metadata": {
    "colab": {
      "provenance": []
    },
    "kernelspec": {
      "display_name": "Python 3",
      "language": "python",
      "name": "python3"
    },
    "language_info": {
      "codemirror_mode": {
        "name": "ipython",
        "version": 3
      },
      "file_extension": ".py",
      "mimetype": "text/x-python",
      "name": "python",
      "nbconvert_exporter": "python",
      "pygments_lexer": "ipython3",
      "version": "3.12.4"
    }
  },
  "nbformat": 4,
  "nbformat_minor": 5
}
