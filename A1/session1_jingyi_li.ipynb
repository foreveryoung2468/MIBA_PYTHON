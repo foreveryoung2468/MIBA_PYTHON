{
 "cells": [
  {
   "cell_type": "markdown",
   "id": "e5734825-d916-4c6e-89f0-a20f6786f906",
   "metadata": {},
   "source": [
    "Exercise 1: Print a Greeting\n",
    " ● Write a Python program that prints a greeting message, such as \"Hello, Python!\"."
   ]
  },
  {
   "cell_type": "code",
   "execution_count": 1,
   "id": "0766d9c7-8083-4809-8cfb-21f117704956",
   "metadata": {},
   "outputs": [
    {
     "name": "stdout",
     "output_type": "stream",
     "text": [
      "Hello, Python!\n"
     ]
    }
   ],
   "source": [
    "print(\"Hello, Python!\")"
   ]
  },
  {
   "cell_type": "markdown",
   "id": "e3bbccae-3d5d-43b9-80d3-47546b66bc1e",
   "metadata": {},
   "source": [
    "Exercise 2: Basic Arithmetic\n",
    " ● Create a program that:\n",
    " ○ Defines two variables, a and b, with numerical values.\n",
    " ○ Prints their sum, difference, product, and quotient.\n"
   ]
  },
  {
   "cell_type": "code",
   "execution_count": 56,
   "id": "bc012bbc-1a93-4047-9591-c071021ea3d7",
   "metadata": {},
   "outputs": [
    {
     "data": {
      "text/plain": [
       "(15, -5, 50, 0.5)"
      ]
     },
     "execution_count": 56,
     "metadata": {},
     "output_type": "execute_result"
    }
   ],
   "source": [
    "a=5\n",
    "b=10\n",
    "sum_ab=a+b\n",
    "difference=a-b\n",
    "product=a*b\n",
    "quotient=a/b\n",
    "sum_ab, difference,product,quotient"
   ]
  },
  {
   "cell_type": "markdown",
   "id": "480bf710-9d62-4738-9bd8-03793a33d296",
   "metadata": {},
   "source": [
    " Exercise 3: String Manipulation\n",
    " ● Define a variable name and assign it your name. Write a program that prints a message saying \n",
    "\"Hello, [name]!\" where [name] is the value of the variable"
   ]
  },
  {
   "cell_type": "code",
   "execution_count": 59,
   "id": "5ad78133-d562-4cbe-9f57-617c8c6cfe53",
   "metadata": {},
   "outputs": [
    {
     "name": "stdout",
     "output_type": "stream",
     "text": [
      "Hello, [name]!\n"
     ]
    }
   ],
   "source": [
    "name='Eva'\n",
    "print(f\"Hello, [name]!\")"
   ]
  },
  {
   "cell_type": "markdown",
   "id": "31f995ed-ba08-45ad-b09e-069b7e11036a",
   "metadata": {},
   "source": [
    "Exercise 4: Lists\n",
    " ● Create a list called universities with at least five different university names.\n",
    " ● Print the entire list.\n",
    " ● Print the first and last university in the list."
   ]
  },
  {
   "cell_type": "code",
   "execution_count": 62,
   "id": "9ba48d6a-3c90-487b-b929-b572521e0470",
   "metadata": {},
   "outputs": [
    {
     "name": "stdout",
     "output_type": "stream",
     "text": [
      "['UB', 'UPC', 'UAB', 'ESADE']\n",
      "UB\n",
      "ESADE\n"
     ]
    }
   ],
   "source": [
    "universities=[\"UB\",\"UPC\",\"UAB\",\"ESADE\"]\n",
    "print(universities)\n",
    "print(universities[0])\n",
    "print(universities[-1])"
   ]
  },
  {
   "cell_type": "markdown",
   "id": "053e990d-b530-4207-b282-b4ff244f0529",
   "metadata": {},
   "source": [
    " Exercise 5: Dictionaries\n",
    " ● Create a dictionary called student with keys: name, age, and grade, and assign appropriate \n",
    "values to each key.\n",
    " ● Write a program that prints each key-value pair in the dictionary"
   ]
  },
  {
   "cell_type": "code",
   "execution_count": 65,
   "id": "360560c3-2bac-495f-a67a-d6da6009821a",
   "metadata": {},
   "outputs": [
    {
     "name": "stdout",
     "output_type": "stream",
     "text": [
      "name: Eva Li\n",
      "age: 24\n",
      "grade: A+\n"
     ]
    }
   ],
   "source": [
    "student = {\n",
    "    \"name\": \"Eva Li\",\n",
    "    \"age\": 24,\n",
    "    \"grade\": \"A+\"}\n",
    "for key, value in student.items():\n",
    "    print(f\"{key}: {value}\")\n"
   ]
  },
  {
   "cell_type": "markdown",
   "id": "5699ad96-ae48-4c70-aeea-c742dc56f08b",
   "metadata": {},
   "source": [
    " Exercise 6: Tuples\n",
    " ● Define a tuple called coordinates with two values representing a point in 2D space (e.g., (x, y)).\n",
    " ● Print the value of coordinates and access each element by its index."
   ]
  },
  {
   "cell_type": "code",
   "execution_count": 68,
   "id": "1c4eea4f-6ef9-4b76-a604-b1bae9a27a08",
   "metadata": {},
   "outputs": [
    {
     "name": "stdout",
     "output_type": "stream",
     "text": [
      "coordinates: (10, 20)\n",
      "x coordinate: 10\n",
      "y coordinate: 20\n"
     ]
    }
   ],
   "source": [
    "coordinates=(10,20)\n",
    "print(\"coordinates:\",coordinates)\n",
    "print(\"x coordinate:\",coordinates[0])\n",
    "print(\"y coordinate:\",coordinates[1])"
   ]
  },
  {
   "cell_type": "markdown",
   "id": "5d4307c4-ffec-4e0f-a9bd-2cde51b039c4",
   "metadata": {},
   "source": [
    "Exercise 7: Sets\n",
    " ● Create a set called colors with the values: \"red\", \"green\", \"blue\".\n",
    " ● Add another color to the set.\n",
    " ● Try adding a duplicate color and observe what happens.\n",
    " ● Print the set and remove one color from it.\n",
    " ● Create another set named light_colors and merge colors and light_colors."
   ]
  },
  {
   "cell_type": "code",
   "execution_count": 71,
   "id": "ef87fd1e-e158-4b80-87fa-9f8315b3f739",
   "metadata": {},
   "outputs": [
    {
     "data": {
      "text/plain": [
       "{'blue', 'green', 'red', 'yellow'}"
      ]
     },
     "execution_count": 71,
     "metadata": {},
     "output_type": "execute_result"
    }
   ],
   "source": [
    "colors={\"red\", \"yellow\", \"blue\"}\n",
    "colors.add(\"green\")\n",
    "colors"
   ]
  },
  {
   "cell_type": "code",
   "execution_count": 73,
   "id": "f60b1d64-c10c-4478-9fdf-cacd1875e59c",
   "metadata": {},
   "outputs": [
    {
     "data": {
      "text/plain": [
       "{'blue', 'green', 'red', 'yellow'}"
      ]
     },
     "execution_count": 73,
     "metadata": {},
     "output_type": "execute_result"
    }
   ],
   "source": [
    "colors.add(\"yellow\")\n",
    "colors"
   ]
  },
  {
   "cell_type": "code",
   "execution_count": 75,
   "id": "c18e24e8-d31c-4abe-a197-6fdcd8b86fe9",
   "metadata": {},
   "outputs": [
    {
     "data": {
      "text/plain": [
       "{'blue', 'green', 'yellow'}"
      ]
     },
     "execution_count": 75,
     "metadata": {},
     "output_type": "execute_result"
    }
   ],
   "source": [
    "colors.remove(\"red\")\n",
    "colors"
   ]
  },
  {
   "cell_type": "code",
   "execution_count": 77,
   "id": "07ee981c-d60b-481d-8260-2f1d5a12a32c",
   "metadata": {},
   "outputs": [
    {
     "name": "stdout",
     "output_type": "stream",
     "text": [
      "{'white', 'black'}\n",
      "{'yellow', 'white', 'blue', 'green', 'black'}\n"
     ]
    }
   ],
   "source": [
    "light_colors={\"black\",\"white\"}\n",
    "merge_colors=colors.union(light_colors)\n",
    "print(light_colors)\n",
    "print(merge_colors)"
   ]
  },
  {
   "cell_type": "markdown",
   "id": "4f3af9c6-5423-4053-9aeb-1eda1d1e9cb7",
   "metadata": {},
   "source": [
    "Exercise 8: Conditional Statements\n",
    " ● Write a program that:\n",
    " ○ Takes an input number from the user.\n",
    " ○ Checks if the number is positive, negative, or zero.\n",
    " ○ Prints an appropriate message based on the result."
   ]
  },
  {
   "cell_type": "code",
   "execution_count": 80,
   "id": "24b3ede9-1dbd-4686-a680-6349ab444c92",
   "metadata": {},
   "outputs": [
    {
     "name": "stdin",
     "output_type": "stream",
     "text": [
      "Enter a number:  1\n"
     ]
    },
    {
     "name": "stdout",
     "output_type": "stream",
     "text": [
      "The number is positive.\n"
     ]
    }
   ],
   "source": [
    "number = float(input(\"Enter a number: \"))\n",
    "if number > 0:\n",
    "    print(\"The number is positive.\")\n",
    "elif number < 0:\n",
    "    print(\"The number is negative.\")\n",
    "else:\n",
    "    print(\"The number is zero.\")"
   ]
  },
  {
   "cell_type": "markdown",
   "id": "a4689113-5ba0-4acb-97aa-744113dd67ae",
   "metadata": {},
   "source": [
    " Exercise 9: For Loop\n",
    " ● Create a list of numbers from 1 to 5.\n",
    " ● Use a for loop to iterate through the list and print each number."
   ]
  },
  {
   "cell_type": "code",
   "execution_count": 82,
   "id": "dcd31b67-0a76-4d4f-aff1-b0a2a555ce22",
   "metadata": {},
   "outputs": [
    {
     "name": "stdout",
     "output_type": "stream",
     "text": [
      "1\n",
      "2\n",
      "3\n",
      "4\n",
      "5\n"
     ]
    }
   ],
   "source": [
    "numbers = [1, 2, 3, 4, 5]\n",
    "for number in numbers:\n",
    "    print(number)"
   ]
  },
  {
   "cell_type": "markdown",
   "id": "c5307c16-640f-44c5-b68b-f17af7f4df88",
   "metadata": {},
   "source": [
    "Exercise 10: While Loop\n",
    " ● Write a program that uses a while loop to print numbers from 1 to 5.\n",
    " ● Ensure the loop terminates correctly"
   ]
  },
  {
   "cell_type": "code",
   "execution_count": 85,
   "id": "0ffbf2c9-5d19-42a9-a9fb-0a749136aab6",
   "metadata": {},
   "outputs": [
    {
     "name": "stdout",
     "output_type": "stream",
     "text": [
      "1\n",
      "2\n",
      "3\n",
      "4\n",
      "5\n"
     ]
    }
   ],
   "source": [
    "number=1\n",
    "while number<=5:\n",
    "    print(number)\n",
    "    number+=1"
   ]
  },
  {
   "cell_type": "markdown",
   "id": "c73227b3-91d0-44d7-9cb8-264ce9352f44",
   "metadata": {},
   "source": [
    "Exercise 11: Match Statement (Python 3.10+)\n",
    " ● Write a program that:\n",
    " ○ Asks the user to input a grade (e.g., \"A\", \"B\", \"C\", \"D\", or \"F\").\n",
    " ○ Use a match statement to print a corresponding message for each grade:\n",
    " ■ \"A\": \"Excellent!\"\n",
    " ■ \"B\": \"Good job!\"\n",
    " ■ \"C\": \"Fair.\"\n",
    " ■ \"D\": \"Needs improvement.\"\n",
    " ■ \"F\": \"Failing.\"\n",
    " ○ Handle invalid input by printing a default message"
   ]
  },
  {
   "cell_type": "code",
   "execution_count": 88,
   "id": "cc1e51f8-fa2f-4d6a-86a6-320f4a13e0fc",
   "metadata": {},
   "outputs": [
    {
     "name": "stdin",
     "output_type": "stream",
     "text": [
      "enter a grade(A,B,C,D,F): A\n"
     ]
    },
    {
     "name": "stdout",
     "output_type": "stream",
     "text": [
      "Excellent!\n"
     ]
    }
   ],
   "source": [
    "grade=input(\"enter a grade(A,B,C,D,F):\").strip().upper()\n",
    "match grade:\n",
    "    case \"A\":\n",
    "        print(\"Excellent!\")\n",
    "    case \"B\":\n",
    "        print(\"Good job!\")\n",
    "    case \"C\":\n",
    "        print(\"Fair.\")\n",
    "    case \"D\":\n",
    "        print(\"Needs improvement.\")\n",
    "    case \"F\":\n",
    "        print(\"Failing.\")\n",
    "    case _:\n",
    "        print(\"Invalid input.\")\n",
    "\n"
   ]
  },
  {
   "cell_type": "markdown",
   "id": "01c8baf9-56d8-4618-bb36-640d090303a1",
   "metadata": {},
   "source": [
    "Exercise 12: Define a Function\n",
    " ● Write a function called greet that takes a name as an argument and prints \"Hello, [name]!\".\n",
    " ● Call the function with your own name."
   ]
  },
  {
   "cell_type": "code",
   "execution_count": 90,
   "id": "799d043d-04f8-4488-ae6d-f61df04ff973",
   "metadata": {},
   "outputs": [
    {
     "name": "stdout",
     "output_type": "stream",
     "text": [
      "Hello,EVA!\n"
     ]
    }
   ],
   "source": [
    "def greet(name):\n",
    "    print(f\"Hello,{name}!\")\n",
    "greet('EVA')\n",
    "    "
   ]
  },
  {
   "cell_type": "markdown",
   "id": "6ef3e5f7-abf0-49e7-a5c4-4e33fdcc1291",
   "metadata": {},
   "source": [
    "Exercise 13: Function with Return Value\n",
    " ● Define a function called square that takes a number as an argument and returns its square.\n",
    " ● Print the result of calling this function with different numbers."
   ]
  },
  {
   "cell_type": "code",
   "execution_count": 93,
   "id": "11030d7f-4b36-472a-8bcc-2a1ae2e4b40c",
   "metadata": {},
   "outputs": [
    {
     "name": "stdout",
     "output_type": "stream",
     "text": [
      "4\n"
     ]
    }
   ],
   "source": [
    "def square(number):\n",
    "    print(number**2)\n",
    "square(2)"
   ]
  },
  {
   "cell_type": "markdown",
   "id": "37952e6d-c922-42f9-a97c-cce090d6cb40",
   "metadata": {},
   "source": [
    "Exercise 14: Function with Default Parameters\n",
    " ● Write a function called multiply that takes two parameters, a and b, and returns their product. \n",
    "Set a default value of 1 for the parameter b.\n",
    " ● Test the function with and without providing the second argument"
   ]
  },
  {
   "cell_type": "code",
   "execution_count": 96,
   "id": "178c765e-ac83-4414-bb86-036996e22cb8",
   "metadata": {},
   "outputs": [
    {
     "name": "stdout",
     "output_type": "stream",
     "text": [
      "15\n",
      "5\n"
     ]
    }
   ],
   "source": [
    "def multiply(a, b=1):\n",
    "    return a * b\n",
    "with_b = multiply(5,3)\n",
    "without_b = multiply(5)\n",
    "print(with_b)\n",
    "print(without_b)"
   ]
  },
  {
   "cell_type": "markdown",
   "id": "689e3d93-a672-4adc-8df8-cc78900e3b73",
   "metadata": {},
   "source": [
    "Exercise 15: List Comprehension\n",
    " ● Create a list of numbers from 1 to 10.\n",
    " ● Use list comprehension to create a new list that contains the squares of these numbers.\n",
    " ● Print the new list."
   ]
  },
  {
   "cell_type": "code",
   "execution_count": 99,
   "id": "54ea5da0-7135-419b-aa58-fe50dec91718",
   "metadata": {},
   "outputs": [
    {
     "name": "stdout",
     "output_type": "stream",
     "text": [
      "[1, 4, 9, 16, 25, 36, 49, 64, 81, 100]\n"
     ]
    }
   ],
   "source": [
    "squares = [number ** 2 for number in range(1, 11)]\n",
    "print(squares)"
   ]
  },
  {
   "cell_type": "markdown",
   "id": "adc948f5-6235-4c16-9c97-1e150d7495ab",
   "metadata": {},
   "source": [
    "Exercise 16: Nested Data Structures\n",
    " ● Create a dictionary where the keys are names of students and the values are lists of their grades.\n",
    " ● Write a function that takes the dictionary and prints the average grade for each student."
   ]
  },
  {
   "cell_type": "code",
   "execution_count": 102,
   "id": "a977da9d-93a8-415b-b8d0-b40275a08d84",
   "metadata": {},
   "outputs": [
    {
     "name": "stdout",
     "output_type": "stream",
     "text": [
      "zhao: Average Grade = 2.0\n",
      "qian: Average Grade = 5.0\n",
      "sun: Average Grade = 7.95\n",
      "li: Average Grade = 4.0\n"
     ]
    }
   ],
   "source": [
    "students_grades = {\n",
    "    \"zhao\": [1,2,3],\n",
    "    \"qian\": [4,5,6],\n",
    "    \"sun\": [7,8.9],\n",
    "    \"li\": [2,4,6],\n",
    "}\n",
    "def average_grades(grades_stu):\n",
    "    for student, grades in grades_stu.items():\n",
    "        average = sum(grades)/ len(grades)  \n",
    "        print(f\"{student}: Average Grade = {average}\")\n",
    "\n",
    "average_grades(students_grades)\n",
    "\n",
    "    "
   ]
  },
  {
   "cell_type": "markdown",
   "id": "581601aa-48e9-4680-9a84-bcc6a1cdc764",
   "metadata": {},
   "source": [
    " Exercise 17: Simple Calculator\n",
    " ● Write a program that:\n",
    " ○ Defines a function calculate which takes three parameters: two numbers and an operator (+, -, *, /).\n",
    " ○ Performs the operation and returns the result.\n",
    " ○ Ask the user for the two numbers and the operator, then call the function and print the result"
   ]
  },
  {
   "cell_type": "code",
   "execution_count": 102,
   "id": "d54163f2-5a1a-4d18-bb79-0a9c0a06de0c",
   "metadata": {},
   "outputs": [
    {
     "name": "stdin",
     "output_type": "stream",
     "text": [
      "Enter the first number:  1\n",
      "Enter the second number:  2\n",
      "Enter the operator (+, -, *, /):  +\n"
     ]
    },
    {
     "data": {
      "text/plain": [
       "3.0"
      ]
     },
     "execution_count": 102,
     "metadata": {},
     "output_type": "execute_result"
    }
   ],
   "source": [
    "num1 = float(input(\"Enter the first number: \")) \n",
    "num2 = float(input(\"Enter the second number: \")) \n",
    "operator = input(\"Enter the operator (+, -, *, /): \")   \n",
    "def calculate(num1, num2, operator):\n",
    "    if operator == '+':\n",
    "        return num1 + num2\n",
    "    elif operator == '-':\n",
    "        return num1 - num2\n",
    "    elif operator == '*':\n",
    "        return num1 * num2\n",
    "    elif operator == '/':\n",
    "        return num1 / num2\n",
    "    else:\n",
    "        return \"Error: Invalid operator.\"\n",
    "result = calculate(num1, num2, operator)\n",
    "result"
   ]
  },
  {
   "cell_type": "code",
   "execution_count": null,
   "id": "9290cc6d-b40a-4ff8-ac0a-c394d6a3090e",
   "metadata": {},
   "outputs": [],
   "source": []
  }
 ],
 "metadata": {
  "kernelspec": {
   "display_name": "Python 3 (ipykernel)",
   "language": "python",
   "name": "python3"
  },
  "language_info": {
   "codemirror_mode": {
    "name": "ipython",
    "version": 3
   },
   "file_extension": ".py",
   "mimetype": "text/x-python",
   "name": "python",
   "nbconvert_exporter": "python",
   "pygments_lexer": "ipython3",
   "version": "3.12.4"
  }
 },
 "nbformat": 4,
 "nbformat_minor": 5
}
