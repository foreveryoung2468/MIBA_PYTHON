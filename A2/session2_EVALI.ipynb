{
 "cells": [
  {
   "cell_type": "markdown",
   "metadata": {
    "id": "Mn9AGx-SsD-p"
   },
   "source": [
    "Exercise 1: FizzBuzz\r\n",
    "1. Write a FizzBuzz Function: Create a function ﬁzzbuzz(n) that takes an integer n as a parameter.\r\n",
    "2. Implement FizzBuzz Logic: The function should print:\r\n",
    "○ \"Fizz\" for multiples of 3\r\n",
    "○ \"Buzz\" for multiples of 5\r\n",
    "○ \"FizzBuzz\" for multiples of both 3 and 5\r\n",
    "○ The number itself for other numbers\r\n",
    "3. Call the Function: Call the function for numbers 1 20.\r\n",
    " "
   ]
  },
  {
   "cell_type": "code",
   "execution_count": 3,
   "metadata": {},
   "outputs": [
    {
     "name": "stdin",
     "output_type": "stream",
     "text": [
      "Please enter a number between 1 and 20:  1\n"
     ]
    }
   ],
   "source": [
    "n = int(input(\"Please enter a number between 1 and 20: \"))\n",
    "def fizzbuzz(n):\n",
    "    for i in range(1, n + 1):\n",
    "        if i % 3 == 0 and i % 5 == 0:\n",
    "            print(\"FizzBuzz\")\n",
    "        elif i % 3 == 0:\n",
    "            print(\"Fizz\")\n",
    "        elif i % 5 == 0:\n",
    "            print(\"Buzz\")\n",
    "        else:\n",
    "            print(i)\n"
   ]
  },
  {
   "cell_type": "markdown",
   "metadata": {},
   "source": [
    "Exercise 2: Basic Data Filtering\n",
    "1. Create a List of Mixed Data Types: Create a list that contains a mix of integers, strings, and ﬂoats.\n",
    "2. Filter the List: Use list comprehension to create a new list that contains only the integers from the original list.\n",
    "3. Print the New List: Output the ﬁltered list of integers."
   ]
  },
  {
   "cell_type": "code",
   "execution_count": 12,
   "metadata": {},
   "outputs": [
    {
     "name": "stdout",
     "output_type": "stream",
     "text": [
      "Filtered list of integers: [1, 9, 7, 24]\n"
     ]
    }
   ],
   "source": [
    "Mixed_data=[1, \"Eva\", 6.6, 9, \"Li\", 7, 8.8, 24, \"python\", 9.5]\n",
    "integer_data=[i for i in Mixed_data if isinstance(i,int)]\n",
    "print(\"Filtered list of integers:\", integer_data)"
   ]
  },
  {
   "cell_type": "markdown",
   "metadata": {},
   "source": [
    "Exercise 3: Simple To-Do List\n",
    "1. Create an Empty List: Start with an empty list called todo_list.\n",
    "2. Deﬁne Functions:\n",
    "○ A function add_task(task) that adds a task to the list.\n",
    "○ A function show_tasks() that prints all tasks in the list.\n"
   ]
  },
  {
   "cell_type": "code",
   "execution_count": 20,
   "metadata": {},
   "outputs": [],
   "source": [
    "todo_list = []\n",
    "def add_task(task):\n",
    "    todo_list.append(task)\n",
    "    print(f\"Task '{task}' has been added to the to-do list.\")\n",
    "def show_tasks():\n",
    "    print(todo_list)"
   ]
  },
  {
   "cell_type": "code",
   "execution_count": 22,
   "metadata": {},
   "outputs": [
    {
     "name": "stdout",
     "output_type": "stream",
     "text": [
      "Task 'Complete Python project' has been added to the to-do list.\n"
     ]
    }
   ],
   "source": [
    "add_task(\"Complete Python project\")"
   ]
  },
  {
   "cell_type": "code",
   "execution_count": 24,
   "metadata": {},
   "outputs": [
    {
     "name": "stdout",
     "output_type": "stream",
     "text": [
      "['Complete Python project']\n"
     ]
    }
   ],
   "source": [
    "show_tasks()"
   ]
  },
  {
   "cell_type": "markdown",
   "metadata": {},
   "source": [
    "Exercise 4: Temperature Converter\n",
    "1. Deﬁne a Conversion Function: Write a function celsius_to_fahrenheit(celsius) that converts Celsius to Fahrenheit.\n",
    "2. Print the Result: Output the converted temperature for 22ºF, 46ºF, 51ºF and 76ºF."
   ]
  },
  {
   "cell_type": "code",
   "execution_count": 28,
   "metadata": {},
   "outputs": [
    {
     "name": "stdout",
     "output_type": "stream",
     "text": [
      "Celsius to Fahrenheit conversions:\n",
      "22°C = 71.6°F\n",
      "46°C = 114.8°F\n",
      "51°C = 123.8°F\n",
      "76°C = 168.8°F\n"
     ]
    }
   ],
   "source": [
    "def celsius_to_fahrenheit(celsius):\n",
    "    return (celsius * 9/5) + 32\n",
    "temperatures_in_celsius = [22, 46, 51, 76]\n",
    "print(\"Celsius to Fahrenheit conversions:\")\n",
    "for celsius in temperatures_in_celsius:\n",
    "    fahrenheit = celsius_to_fahrenheit(celsius)\n",
    "    print(f\"{celsius}°C = {fahrenheit}°F\")"
   ]
  },
  {
   "cell_type": "code",
   "execution_count": null,
   "metadata": {},
   "outputs": [],
   "source": []
  }
 ],
 "metadata": {
  "colab": {
   "name": "[IS 2021 W2] Primitive Types.ipynb",
   "provenance": []
  },
  "kernelspec": {
   "display_name": "Python 3 (ipykernel)",
   "language": "python",
   "name": "python3"
  },
  "language_info": {
   "codemirror_mode": {
    "name": "ipython",
    "version": 3
   },
   "file_extension": ".py",
   "mimetype": "text/x-python",
   "name": "python",
   "nbconvert_exporter": "python",
   "pygments_lexer": "ipython3",
   "version": "3.12.4"
  }
 },
 "nbformat": 4,
 "nbformat_minor": 4
}
